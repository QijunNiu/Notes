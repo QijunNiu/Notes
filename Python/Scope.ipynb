{
 "cells": [
  {
   "cell_type": "markdown",
   "metadata": {},
   "source": [
    "# 作用域"
   ]
  },
  {
   "cell_type": "markdown",
   "metadata": {},
   "source": [
    "作用域规定了一个变量能在什么地方使用。\n",
    "python的作用域规则也很简单，可以理解为多个盒子，这些盒子是一层一层套在一起的，里面的盒子可以看到外面的盒子里的东西，而外面的盒子看不到里面盒子里的东西。这些盒子在python 中用词法来规定的。程序员自己的代码一般会在三个盒子中，自己创建出来的盒子只有以下两种："
   ]
  },
  {
   "cell_type": "markdown",
   "metadata": {},
   "source": [
    "1. 函数盒子\n",
    "2. 类盒子"
   ]
  },
  {
   "cell_type": "markdown",
   "metadata": {},
   "source": [
    "这些盒子都是装在一个文件中的，出了这些盒子，再定义变量，都是放在一个全局的盒子中，一般称作全局作用域：\n",
    "3. 全局盒子"
   ]
  },
  {
   "cell_type": "markdown",
   "metadata": {},
   "source": [
    "程序是在python解释器中运行的，解释器会有一些内建的变量，这些变量不会和程序的变量放在同一个作用域下，这个作用域叫做内建作用域。\n",
    "函数盒子和类盒子创建出来的作用域叫做局部作用域。\n",
    "\n",
    "但是在python中，函数和类是可以互相嵌套的，也就是做局部作用域里面可以有新的局部作用域，这样说不好区分哪个局部作用域是哪个。程序员是一个特别喜欢给概念取名字的一个团体，所以程序员把外边那个盒子取名叫做闭包作用域（Enclosing scope），里面的还是叫做局部作用域。这里要注意的是闭包作用域只是一个相对的概念，有了嵌套才会有闭包作用域。\n",
    "\n",
    "这些盒子的嵌套关系是这样的："
   ]
  },
  {
   "cell_type": "markdown",
   "metadata": {},
   "source": [
    "```\n",
    " _________________________________________________________________________\n",
    "|                                                                         | \n",
    "|   内建作用域                                                              |\n",
    "|   ___________________________________________________________________   |\n",
    "|  |                                                                   |  | \n",
    "|  |  全局作用域                                                         |  | \n",
    "|  |   _____________________________________________________________   |  |\n",
    "|  |  |                                                             |  |  |\n",
    "|  |  |  闭包作用域                                                   |  |  |\n",
    "|  |  |   _______________________________________________________   |  |  |\n",
    "|  |  |  |                                                       |  |  |  |\n",
    "|  |  |  |   局部作用域                                            |  |  |  |\n",
    "|  |  |  |_______________________________________________________|  |  |  |\n",
    "|  |  |_____________________________________________________________|  |  |\n",
    "|  |___________________________________________________________________|  |\n",
    "|_________________________________________________________________________|\n",
    "\n",
    "```"
   ]
  },
  {
   "cell_type": "markdown",
   "metadata": {},
   "source": [
    "程序员也是特别喜欢缩写的一个团体，所以他们把作用域的查找规则简写成了：**LEGB**\n",
    "\n",
    "局部作用域（Local Scope）-> 闭包作用域（Enclosing Scope）->全局作用域（Global Scope）->内建作用域（Built-in Scope）"
   ]
  },
  {
   "cell_type": "markdown",
   "metadata": {},
   "source": [
    "内部作用域可以访问到外部作用域的变量"
   ]
  },
  {
   "cell_type": "markdown",
   "metadata": {},
   "source": [
    "* 先来几个简单的例子："
   ]
  },
  {
   "cell_type": "markdown",
   "metadata": {},
   "source": [
    "## 局部作用域和全局作用域"
   ]
  },
  {
   "cell_type": "code",
   "execution_count": 3,
   "metadata": {},
   "outputs": [
    {
     "name": "stdout",
     "output_type": "stream",
     "text": [
      "15\n"
     ]
    }
   ],
   "source": [
    "x = 15\n",
    "\n",
    "def func():\n",
    "    print(x)\n",
    "\n",
    "func()"
   ]
  },
  {
   "cell_type": "markdown",
   "metadata": {},
   "source": [
    "在函数的局部作用域中可以访问到全局作用域中的变量x，但是需要注意的是这里的访问是读去x的值，下面我们试一试，如果在函数中写全局变量会怎么样"
   ]
  },
  {
   "cell_type": "code",
   "execution_count": 4,
   "metadata": {},
   "outputs": [
    {
     "name": "stdout",
     "output_type": "stream",
     "text": [
      "20\n",
      "15\n"
     ]
    }
   ],
   "source": [
    "y = 15\n",
    "\n",
    "def modify():\n",
    "    y = 20\n",
    "    print(y)\n",
    "modify()\n",
    "print(y)"
   ]
  },
  {
   "cell_type": "markdown",
   "metadata": {},
   "source": [
    "我们可以看到，在modify函数中对y变量进行赋值，但是在全局作用域中打印y的值，发现全局变量y并没有被modify函数修改。\n",
    "不是说局部作用域可以访问全局作用域中的变量么，这是怎么回事呢？"
   ]
  },
  {
   "cell_type": "markdown",
   "metadata": {},
   "source": [
    "这就涉及到和python中的另外一个规则冲突的问题了。\n",
    "\n",
    "在python中定义变量的语句和赋值语句的写法是一样的，但是这两件事情是有本质的区别的。\n",
    "所谓的定义变量，是告诉解释器，我要一个新的变量，名字是y，你要给我在内存中开辟一段空间，让我把y变量的值放进去。\n",
    "所谓的给变量赋值则是，hi解释器，我知道你有一个变量名字叫做y，它已经在内存中了，但是它以前的值我不想用了，你给我放一个新的值到那段内存中去。\n",
    "\n",
    "这里就出现了问题了，当我们在modify中写一条语句“y = 20”的时候，解释器只会在局部作用域的盒子中找y变量，发现局部作用域中并没有这个变量。然后它就会认为这是一条赋值语句，接着就会在内存中开辟一段内存并在局部作用域的盒子里面放进去一个名字y。在函数中每次要操作y变量，都直接能在局部作用域中找到这个名字，等于说把全局作用域中的变量y给覆盖掉了。\n",
    "\n",
    "那么如果我们在函数中确实对一个全局变量进行赋值的操作怎么办呢？\n",
    "\n",
    "这种时候就只能用一个关键字来打破原来的规则，这个关键字就是global。"
   ]
  },
  {
   "cell_type": "code",
   "execution_count": 5,
   "metadata": {},
   "outputs": [
    {
     "name": "stdout",
     "output_type": "stream",
     "text": [
      "20\n",
      "20\n"
     ]
    }
   ],
   "source": [
    "z = 15\n",
    "\n",
    "def modify_global():\n",
    "    global z\n",
    "    z = 20\n",
    "    print(z)\n",
    "modify_global()\n",
    "print(z)"
   ]
  },
  {
   "cell_type": "markdown",
   "metadata": {},
   "source": [
    "“global z”这条语句告诉编译器，不要在局部变量中找变量z了，我要的是一个全局变量，你直接在全局作用域中，把那个名字给我找出来就好了，别做画蛇添足的事情，这个时候在modify_global函数里面使用变量z，就是直接使用的全局变量z了。\n",
    "\n",
    "所以在函数中对z进行赋值的话，全局变量z也会收到影响。"
   ]
  },
  {
   "cell_type": "code",
   "execution_count": 39,
   "metadata": {},
   "outputs": [
    {
     "name": "stdout",
     "output_type": "stream",
     "text": [
      "34\n",
      "34\n"
     ]
    }
   ],
   "source": [
    "def modify_define_global():\n",
    "    global var\n",
    "    var = 34\n",
    "    print(var)\n",
    "modify_define_global()\n",
    "print(var)"
   ]
  },
  {
   "cell_type": "markdown",
   "metadata": {},
   "source": [
    "在使用了global关键字之后，解释器默认的从全局作用域中去查找变量var，如果没有找到，解释器会为var变量分配一段内存，并在全局作用域中给这段内存添加一个名字var。"
   ]
  },
  {
   "cell_type": "markdown",
   "metadata": {},
   "source": [
    "## 闭包作用域和局部作用域"
   ]
  },
  {
   "cell_type": "markdown",
   "metadata": {},
   "source": [
    "前面说了，在局部作用域嵌套了一个局部作用域的时候，外面那层局部作用域的名字被叫做闭包作用域。"
   ]
  },
  {
   "cell_type": "code",
   "execution_count": 10,
   "metadata": {},
   "outputs": [
    {
     "name": "stdout",
     "output_type": "stream",
     "text": [
      "3 4\n",
      "1 2\n"
     ]
    }
   ],
   "source": [
    "def outer():\n",
    "    x, y = 1, 2\n",
    "    def inner():\n",
    "        x, y = 3, 4\n",
    "        print(x, y)\n",
    "    inner()\n",
    "    print(x, y)\n",
    "outer()"
   ]
  },
  {
   "cell_type": "markdown",
   "metadata": {},
   "source": [
    "这里举了一个函数嵌套的例子，\n",
    "\n",
    "首先有一个问题，函数在python中是一等对象，也就是说函数和普通对象的作用域是一样的，inner是定义在outer的局部作用域中的。\n",
    "所以无论如何，在全局作用域中都不可以通过inner这个名字来访问到这个函数的。但是既然是一等对象，就可以用引用来访问到它，下面是绕过inner函数无法被全局作用域访问到的一种方法："
   ]
  },
  {
   "cell_type": "code",
   "execution_count": 15,
   "metadata": {},
   "outputs": [],
   "source": [
    "def out_1(x, y):\n",
    "    def inner_1():\n",
    "        print(x, y)\n",
    "        print('hello world')\n",
    "    return inner_1"
   ]
  },
  {
   "cell_type": "code",
   "execution_count": 16,
   "metadata": {},
   "outputs": [
    {
     "name": "stdout",
     "output_type": "stream",
     "text": [
      "1 2\n",
      "hello world\n"
     ]
    }
   ],
   "source": [
    "f = out_1(1, 2)\n",
    "f()"
   ]
  },
  {
   "cell_type": "markdown",
   "metadata": {},
   "source": [
    "让外层函数把内层函数当作一个对象返回，在全局作用域中，用一个引用指向这个对象，那么这个对象在全局作用域也就有了自己的名字，用这个新名字就可以调用这个内层函数了。\n",
    "\n",
    "这里还有一个非常厉害的特性，注意到上面这段代码中，在out_1函数调用完成之后，out_1的局部变量按理说就应该死掉了，但是由于inner_1函数中引用到了两个变量，而inner_1又被全局变量引用了，所以out_1函数中的局部变量的生命周期就变的和inner_1的局部变量一样长了，相当于是inner_1复制了一份out_1的作用域。"
   ]
  },
  {
   "cell_type": "code",
   "execution_count": 17,
   "metadata": {},
   "outputs": [
    {
     "name": "stdout",
     "output_type": "stream",
     "text": [
      "3 4\n",
      "hello world\n"
     ]
    }
   ],
   "source": [
    "f2 = out_1(3, 4)\n",
    "f2()"
   ]
  },
  {
   "cell_type": "markdown",
   "metadata": {},
   "source": [
    "既然函数是对象，那么不同函数就应该占有不同的内存空间，在这里第二次执行了out_1函数，这个函数又定义了一个新的函数对象，并将其返回给全局作用域。\n",
    "这个时候f函数和f2函数复制的out_1的作用域就变成了完全不同的两套作用域。所以打印出来的东西并不相同"
   ]
  },
  {
   "cell_type": "markdown",
   "metadata": {},
   "source": [
    "这种函数嵌套的方式就叫做闭包，用法很灵活，可以举个很简单的例子："
   ]
  },
  {
   "cell_type": "code",
   "execution_count": 19,
   "metadata": {},
   "outputs": [
    {
     "name": "stdout",
     "output_type": "stream",
     "text": [
      "25\n",
      "125\n"
     ]
    }
   ],
   "source": [
    "def pow_n(n):\n",
    "    def power(num):\n",
    "        return num ** n\n",
    "    return power\n",
    "\n",
    "square = pow_n(2)\n",
    "cube = pow_n(3)\n",
    "print(square(5))\n",
    "print(cube(5))"
   ]
  },
  {
   "cell_type": "markdown",
   "metadata": {},
   "source": [
    "使用闭包可以很容易的通过外部参数定制一个新的函数，而不是说我需要一个平方的函数要实现一次，需要一个立方的函数又需要重新的实现一次。\n",
    "\n",
    "闭包的用法后面再说，现在回到作用域。\n",
    "之前全局作用域和赋值语句的冲突使用global关键字来解决的，那闭包作用域和赋值语句的冲突怎么解决呢？\n",
    "如果继续使用global的话，python解释器仍然回去全局作用域中找名字。而闭包作用域并不会收到影响。"
   ]
  },
  {
   "cell_type": "code",
   "execution_count": 42,
   "metadata": {},
   "outputs": [
    {
     "name": "stdout",
     "output_type": "stream",
     "text": [
      "3 4\n",
      "1 2\n",
      "3 4\n"
     ]
    }
   ],
   "source": [
    "def out2():\n",
    "    x, y = 1, 2\n",
    "    def inner():\n",
    "        global x, y\n",
    "        x, y = 3, 4\n",
    "        print(x, y)\n",
    "    inner()\n",
    "    print(x, y)\n",
    "\n",
    "out2()\n",
    "print(x, y)"
   ]
  },
  {
   "cell_type": "markdown",
   "metadata": {},
   "source": [
    "闭包作用域和赋值语句的冲突并没有被解决。\n",
    "所以，在python3中引进了一个新的关键字nonlocal，这个关键字告诉解释器，不要在这一层函数的局部作用域中去找这个名字，我要在外面一层函数的作用域中去找这个名字。"
   ]
  },
  {
   "cell_type": "code",
   "execution_count": 46,
   "metadata": {},
   "outputs": [
    {
     "name": "stdout",
     "output_type": "stream",
     "text": [
      "3 4\n"
     ]
    }
   ],
   "source": [
    "def out3():\n",
    "    i, j = 1, 2\n",
    "    def inner():\n",
    "        nonlocal i, j\n",
    "        i, j = 3, 4\n",
    "    inner()\n",
    "    print(i, j)\n",
    "out3()"
   ]
  },
  {
   "cell_type": "markdown",
   "metadata": {},
   "source": [
    "如果是多层嵌套怎么办？"
   ]
  },
  {
   "cell_type": "code",
   "execution_count": 48,
   "metadata": {},
   "outputs": [
    {
     "name": "stdout",
     "output_type": "stream",
     "text": [
      "5 6\n",
      "1 2\n"
     ]
    }
   ],
   "source": [
    "def out4():\n",
    "    i, j = 1, 2\n",
    "    def middle():\n",
    "        i, j = 3, 4\n",
    "        def inner():\n",
    "            nonlocal i, j\n",
    "            i, j = 5, 6\n",
    "        inner()\n",
    "        print(i, j)\n",
    "    middle()\n",
    "    print(i, j)\n",
    "    \n",
    "out4()"
   ]
  },
  {
   "cell_type": "markdown",
   "metadata": {},
   "source": [
    "可以发现nonlocal只会让解释器在最近的外层函数作用域中去查找相关的变量名，并不会影响到更外层的作用域。\n",
    "\n",
    "那nonlocal可不可以影响到全局作用域呢？"
   ]
  },
  {
   "cell_type": "code",
   "execution_count": 50,
   "metadata": {},
   "outputs": [
    {
     "ename": "SyntaxError",
     "evalue": "no binding for nonlocal 'abc' found (<ipython-input-50-0ee48928fc91>, line 3)",
     "output_type": "error",
     "traceback": [
      "\u001b[0;36m  File \u001b[0;32m\"<ipython-input-50-0ee48928fc91>\"\u001b[0;36m, line \u001b[0;32m3\u001b[0m\n\u001b[0;31m    nonlocal abc\u001b[0m\n\u001b[0m    ^\u001b[0m\n\u001b[0;31mSyntaxError\u001b[0m\u001b[0;31m:\u001b[0m no binding for nonlocal 'abc' found\n"
     ]
    }
   ],
   "source": [
    "abc = 123\n",
    "def modify_nonlocal():\n",
    "    nonlocal abc\n",
    "    abc = 456\n",
    "\n",
    "modify_nonlocal()\n",
    "print(abc)"
   ]
  },
  {
   "cell_type": "markdown",
   "metadata": {},
   "source": [
    "很明显，答案是不行，如果没有外层作用域，使用nonlocal关键字是会报错抛异常的。\n",
    "所以即使在python3中，global关键字也是有它的用处的。"
   ]
  },
  {
   "cell_type": "markdown",
   "metadata": {},
   "source": [
    "还要注意的是，在python2中，并没有nonlocal的关键字，如果需要对上层的值进行修改，就需要使用dict之类的对象绕过赋值语句的限制了。"
   ]
  }
 ],
 "metadata": {
  "kernelspec": {
   "display_name": "Python 3",
   "language": "python",
   "name": "python3"
  },
  "language_info": {
   "codemirror_mode": {
    "name": "ipython",
    "version": 3
   },
   "file_extension": ".py",
   "mimetype": "text/x-python",
   "name": "python",
   "nbconvert_exporter": "python",
   "pygments_lexer": "ipython3",
   "version": "3.7.0"
  }
 },
 "nbformat": 4,
 "nbformat_minor": 2
}
